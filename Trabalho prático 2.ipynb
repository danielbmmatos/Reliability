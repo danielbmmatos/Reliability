{
 "cells": [
  {
   "cell_type": "markdown",
   "id": "93908690",
   "metadata": {},
   "source": [
    "*Universidade Federal do Rio Grande do Sul (UFRGS)*\n",
    "\n",
    "*Programa de Pós-Graduação em Engenharia Civil (PPGEC)*\n",
    "___\n",
    "PEC00145 - CONFIABILIDADE ESTRUTURAL\n",
    "---\n",
    "### Trabalho 2: Resolução dos problemas pelos métodos FORM e Monte Carlo\n",
    "\n",
    "*Prof. Herbert Martins Gomes (PPGEC/UFRGS)*\n",
    "\n",
    "*Aluno: Daniel B. M. Matos (PPGEC/UFRGS)*\n",
    "\n",
    "___"
   ]
  },
  {
   "cell_type": "code",
   "execution_count": 1,
   "id": "22f9dbe1",
   "metadata": {},
   "outputs": [],
   "source": [
    "from reliability import *"
   ]
  },
  {
   "cell_type": "markdown",
   "id": "22922f9e",
   "metadata": {},
   "source": [
    "### 1 Introdução\n",
    "Todos os problemas que serão resolvidos neste trabalho possuem variáveis com médias e desvios padrões constantes, como indicado abaixo:\n",
    "\n",
    "\\begin{align}\n",
    "\\mu &=\\{40,50,1000\\}\\\\\n",
    "\\sigma &= \\{5,2.5,200\\}\n",
    "\\end{align}\n",
    "\n",
    "Suas distribuições e coeficientes de correlação variam de acordo com o exercício.\n",
    "\n",
    "As funções de estado limite, assim como os vetores de média e desvio padrão são declarados a seguir:"
   ]
  },
  {
   "cell_type": "code",
   "execution_count": 2,
   "id": "a81f6711",
   "metadata": {},
   "outputs": [],
   "source": [
    "def FELFORM(x):\n",
    "    y = x[0]*x[1]-x[2]       #f.e.l para o método FORM\n",
    "    return y\n",
    "\n",
    "def FELMC(x):\n",
    "    y = x[0,:]*x[1,:]-x[2,:] # f.e.l para o método de montecarlo\n",
    "    return y\n",
    "\n",
    "mean = np.array([40,50,1000]) # vetor de médias\n",
    "std  = np.array([5,2.5,200])  # vetor de desvios padrões"
   ]
  },
  {
   "cell_type": "markdown",
   "id": "01a88d56",
   "metadata": {},
   "source": [
    "As simulações de montecarlo estão divididas em 10 blocos de 500 mil iterações. No caso do coeficiente de variação da probabilidade de falha ser menor que 5%, o laço é quebrado"
   ]
  },
  {
   "cell_type": "code",
   "execution_count": 3,
   "id": "d9efb7d9",
   "metadata": {},
   "outputs": [],
   "source": [
    "n = 500000\n",
    "nl = 10"
   ]
  },
  {
   "cell_type": "markdown",
   "id": "82038345",
   "metadata": {},
   "source": [
    "## 1. Problema com V.A. Não-correlacionadas e Gaussianas\n",
    "\n",
    "A capacidade plástica de uma seção transversal de uma viga de aço pode ser\n",
    "dada por YZ, onde Y e a tensão limite ao escoamento do aço e Z é o módulo plásticoda seção. Então, se o momento aplicado na seção for M, a função de estado limite pode ser definida como:\n",
    "\n",
    "\\begin{align}\n",
    "g(x) = YZ -M\n",
    "\\end{align}\n",
    "Assuma que as variáveis são não-correlacionadas e que a tensão de\n",
    "escoamento 𝑌 é uma variável aleatória do tipo Gaussiana com 𝜇𝑌 = 40, e 𝐶𝑉𝑌 = 0.125\n",
    "e que o módulo plástico da seção transversal 𝑍 é uma variável Gaussiana com 𝜇𝑍 =\n",
    "50, 𝐶𝑉𝑍 = 0.05 e que o momento atuante é uma V.A Gaussiana com 𝜇𝑀 = 1000, e\n",
    "𝐶𝑉𝑀 = 0.2. Determine a confiabilidade da seção transversal pelo método FORM e pelo\n",
    "método de Monte Carlo."
   ]
  },
  {
   "cell_type": "code",
   "execution_count": 4,
   "id": "47651b43",
   "metadata": {},
   "outputs": [
    {
     "name": "stdout",
     "output_type": "stream",
     "text": [
      "------------------------- \n",
      "            FORM           \n",
      " ------------------------- \n",
      " iteração:    1 \n",
      " beta = 2.981 \n",
      " chamadas da FEL = 4.000 \n",
      "\n",
      "------------------------- \n",
      "            FORM           \n",
      " ------------------------- \n",
      " iteração:    2 \n",
      " beta = 3.050 \n",
      " chamadas da FEL = 8.000 \n",
      "\n",
      "------------------------- \n",
      "            FORM           \n",
      " ------------------------- \n",
      " iteração:    3 \n",
      " beta = 3.049 \n",
      " chamadas da FEL = 12.000 \n",
      "\n",
      "------------------------- \n",
      "            FORM           \n",
      " ------------------------- \n",
      " iteração:    4 \n",
      " beta = 3.049 \n",
      " chamadas da FEL = 16.000 \n",
      "\n",
      "------------------------- \n",
      "            FORM           \n",
      " ------------------------- \n",
      " iteração:    5 \n",
      " beta = 3.049 \n",
      " chamadas da FEL = 20.000 \n",
      "\n"
     ]
    }
   ],
   "source": [
    "dist = ['normal','normal','normal']   \n",
    "\n",
    "rho = np.array([[1,0,0],\n",
    "                [0,1,0],\n",
    "                [0,0,1]])    \n",
    "\n",
    "beta = reliability.FORM(FELFORM,mean,std,dist,rho)\n",
    "beta\n",
    "#betaM = reliability.MONTECARLO(FELMC,mean,std,dist,rho,n,nl)   "
   ]
  },
  {
   "cell_type": "markdown",
   "id": "853b1cd3",
   "metadata": {},
   "source": [
    "## 2. Problema com V.A. Não-correlacionadas e não-Gaussianas\n",
    "\n",
    "A capacidade plástica de uma seção transversal de uma viga de aço pode ser\n",
    "dada por YZ, onde Y e a tensão limite ao escoamento do aço e Z é o módulo plásticoda seção. Então, se o momento aplicado na seção for M, a função de estado limite pode ser definida como:\n",
    "\n",
    "\\begin{align}\n",
    "g(x) = YZ -M\n",
    "\\end{align}\n",
    "Assuma que as variáveis são não-correlacionadas e que a tensão de\n",
    "escoamento 𝑌 é uma variável aleatória do tipo lognormal com 𝜇𝑌 = 40, e 𝐶𝑉𝑌 = 0.125\n",
    "e que o módulo plástico da seção transversal 𝑍 é uma variável lognormal com 𝜇𝑍 =\n",
    "50, 𝐶𝑉𝑍 = 0.05 e que o momento atuante é uma V.A do tipo I pra extremos com 𝜇𝑀 = 1000, e\n",
    "𝐶𝑉𝑀 = 0.2. Determine a confiabilidade da seção transversal pelo método FORM e pelo\n",
    "método de Monte Carlo."
   ]
  },
  {
   "cell_type": "code",
   "execution_count": 5,
   "id": "5dab9016",
   "metadata": {},
   "outputs": [
    {
     "name": "stdout",
     "output_type": "stream",
     "text": [
      "------------------------- \n",
      "            FORM           \n",
      " ------------------------- \n",
      " iteração:    1 \n",
      " beta = 3.165 \n",
      " chamadas da FEL = 4.000 \n",
      "\n",
      "------------------------- \n",
      "            FORM           \n",
      " ------------------------- \n",
      " iteração:    2 \n",
      " beta = 2.820 \n",
      " chamadas da FEL = 8.000 \n",
      "\n",
      "------------------------- \n",
      "            FORM           \n",
      " ------------------------- \n",
      " iteração:    3 \n",
      " beta = 2.744 \n",
      " chamadas da FEL = 12.000 \n",
      "\n",
      "------------------------- \n",
      "            FORM           \n",
      " ------------------------- \n",
      " iteração:    4 \n",
      " beta = 2.742 \n",
      " chamadas da FEL = 16.000 \n",
      "\n",
      "------------------------- \n",
      "            FORM           \n",
      " ------------------------- \n",
      " iteração:    5 \n",
      " beta = 2.742 \n",
      " chamadas da FEL = 20.000 \n",
      "\n",
      "------------------------- \n",
      "         MONTECARLO        \n",
      " ------------------------- \n",
      " No de simulações:5e+05 \n",
      " beta = 2.741 \n",
      " CVPf =     3% \n",
      " Pf   = 3.064e-03 \n",
      " Chamadas da FEL = 500000 \n",
      "\n"
     ]
    }
   ],
   "source": [
    "dist = ['lognormal','lognormal','gumbel']   \n",
    "\n",
    "rho = np.array([[1,0,0],\n",
    "                [0,1,0],\n",
    "                [0,0,1]])    \n",
    "\n",
    "beta = reliability.FORM(FELFORM,mean,std,dist,rho)  \n",
    "beta = reliability.MONTECARLO(FELMC,mean,std,dist,rho,n,nl)    "
   ]
  },
  {
   "cell_type": "markdown",
   "id": "e3cecef0",
   "metadata": {},
   "source": [
    "## 3. Problema com V.A. correlacionadas e Gaussianas\n",
    "\n",
    "A capacidade plástica de uma seção transversal de uma viga de aço pode ser\n",
    "dada por YZ, onde Y e a tensão limite ao escoamento do aço e Z é o módulo plásticoda seção. Então, se o momento aplicado na seção for M, a função de estado limite pode ser definida como:\n",
    "\n",
    "\\begin{align}\n",
    "g(x) = YZ -M\n",
    "\\end{align}\n",
    "Assuma que as variáveis são correlacionadas com $\\rho_{y,z}=0.4$ e que a tensão de\n",
    "escoamento 𝑌 é uma variável aleatória do tipo Gaussiana com 𝜇𝑌 = 40, e 𝐶𝑉𝑌 = 0.125\n",
    "e que o módulo plástico da seção transversal 𝑍 é uma variável Gaussiana com 𝜇𝑍 =\n",
    "50, 𝐶𝑉𝑍 = 0.05 e que o momento atuante é uma V.A Gaussiana com 𝜇𝑀 = 1000, e\n",
    "𝐶𝑉𝑀 = 0.2. Determine a confiabilidade da seção transversal pelo método FORM e pelo\n",
    "método de Monte Carlo."
   ]
  },
  {
   "cell_type": "code",
   "execution_count": 6,
   "id": "fd33211f",
   "metadata": {},
   "outputs": [
    {
     "name": "stdout",
     "output_type": "stream",
     "text": [
      "------------------------- \n",
      "            FORM           \n",
      " ------------------------- \n",
      " iteração:    1 \n",
      " beta = 2.747 \n",
      " chamadas da FEL = 4.000 \n",
      "\n",
      "------------------------- \n",
      "            FORM           \n",
      " ------------------------- \n",
      " iteração:    2 \n",
      " beta = 2.863 \n",
      " chamadas da FEL = 8.000 \n",
      "\n",
      "------------------------- \n",
      "            FORM           \n",
      " ------------------------- \n",
      " iteração:    3 \n",
      " beta = 2.863 \n",
      " chamadas da FEL = 12.000 \n",
      "\n",
      "------------------------- \n",
      "            FORM           \n",
      " ------------------------- \n",
      " iteração:    4 \n",
      " beta = 2.863 \n",
      " chamadas da FEL = 16.000 \n",
      "\n",
      "------------------------- \n",
      "         MONTECARLO        \n",
      " ------------------------- \n",
      " No de simulações:5e+05 \n",
      " beta = 2.869 \n",
      " CVPf =     3% \n",
      " Pf   = 2.056e-03 \n",
      " Chamadas da FEL = 500000 \n",
      "\n"
     ]
    }
   ],
   "source": [
    "dist = ['normal','normal','normal']   \n",
    "\n",
    "rho = np.array([[1,0.4,0],\n",
    "                [0.4,1,0],\n",
    "                [0,0,1]])    \n",
    "\n",
    "beta = reliability.FORM(FELFORM,mean,std,dist,rho)   \n",
    "betaM = reliability.MONTECARLO(FELMC,mean,std,dist,rho,n,nl)  "
   ]
  },
  {
   "cell_type": "markdown",
   "id": "4f1045e9",
   "metadata": {},
   "source": [
    "## 4. Problema com V.A. correlacionadas e não-Gaussianas\n",
    "\n",
    "A capacidade plástica de uma seção transversal de uma viga de aço pode ser\n",
    "dada por YZ, onde Y e a tensão limite ao escoamento do aço e Z é o módulo plásticoda seção. Então, se o momento aplicado na seção for M, a função de estado limite pode ser definida como:\n",
    "\n",
    "\\begin{align}\n",
    "g(x) = YZ -M\n",
    "\\end{align}\n",
    "Assuma que as variáveis são não-correlacionadas e que a tensão de\n",
    "escoamento 𝑌 é uma variável aleatória do tipo lognormal com 𝜇𝑌 = 40, e 𝐶𝑉𝑌 = 0.125\n",
    "e que o módulo plástico da seção transversal 𝑍 é uma variável lognormal com 𝜇𝑍 =\n",
    "50, 𝐶𝑉𝑍 = 0.05 e que o momento atuante é uma V.A do tipo I para extremos com 𝜇𝑀 = 1000, e\n",
    "𝐶𝑉𝑀 = 0.2. Determine a confiabilidade da seção transversal pelo método FORM e pelo\n",
    "método de Monte Carlo.\n"
   ]
  },
  {
   "cell_type": "code",
   "execution_count": 7,
   "id": "02a7da23",
   "metadata": {},
   "outputs": [
    {
     "name": "stdout",
     "output_type": "stream",
     "text": [
      "------------------------- \n",
      "            FORM           \n",
      " ------------------------- \n",
      " iteração:    1 \n",
      " beta = 2.901 \n",
      " chamadas da FEL = 4.000 \n",
      "\n",
      "------------------------- \n",
      "            FORM           \n",
      " ------------------------- \n",
      " iteração:    2 \n",
      " beta = 2.760 \n",
      " chamadas da FEL = 8.000 \n",
      "\n",
      "------------------------- \n",
      "            FORM           \n",
      " ------------------------- \n",
      " iteração:    3 \n",
      " beta = 2.666 \n",
      " chamadas da FEL = 12.000 \n",
      "\n",
      "------------------------- \n",
      "            FORM           \n",
      " ------------------------- \n",
      " iteração:    4 \n",
      " beta = 2.664 \n",
      " chamadas da FEL = 16.000 \n",
      "\n",
      "------------------------- \n",
      "            FORM           \n",
      " ------------------------- \n",
      " iteração:    5 \n",
      " beta = 2.664 \n",
      " chamadas da FEL = 20.000 \n",
      "\n",
      "------------------------- \n",
      "            FORM           \n",
      " ------------------------- \n",
      " iteração:    6 \n",
      " beta = 2.664 \n",
      " chamadas da FEL = 24.000 \n",
      "\n",
      "------------------------- \n",
      "         MONTECARLO        \n",
      " ------------------------- \n",
      " No de simulações:5e+05 \n",
      " beta = 2.657 \n",
      " CVPf =     2% \n",
      " Pf   = 3.940e-03 \n",
      " Chamadas da FEL = 500000 \n",
      "\n"
     ]
    }
   ],
   "source": [
    "dist = ['lognormal','lognormal','gumbel']   \n",
    "\n",
    "rho = np.array([[1,0.4,0],\n",
    "                [0.4,1,0],\n",
    "                [0,0,1]])    \n",
    "\n",
    "beta = reliability.FORM(FELFORM,mean,std,dist,rho)   \n",
    "betaM = reliability.MONTECARLO(FELMC,mean,std,dist,rho,n,nl)  "
   ]
  },
  {
   "cell_type": "code",
   "execution_count": null,
   "id": "6120d254",
   "metadata": {},
   "outputs": [],
   "source": []
  }
 ],
 "metadata": {
  "kernelspec": {
   "display_name": "Python 3 (ipykernel)",
   "language": "python",
   "name": "python3"
  },
  "language_info": {
   "codemirror_mode": {
    "name": "ipython",
    "version": 3
   },
   "file_extension": ".py",
   "mimetype": "text/x-python",
   "name": "python",
   "nbconvert_exporter": "python",
   "pygments_lexer": "ipython3",
   "version": "3.9.7"
  }
 },
 "nbformat": 4,
 "nbformat_minor": 5
}
